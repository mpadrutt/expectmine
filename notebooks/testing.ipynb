{
 "cells": [
  {
   "cell_type": "code",
   "execution_count": 2,
   "metadata": {},
   "outputs": [],
   "source": [
    "import xml.etree.ElementTree as ET\n",
    "import xml.dom.minidom as minidom"
   ]
  },
  {
   "cell_type": "code",
   "execution_count": 3,
   "metadata": {},
   "outputs": [],
   "source": [
    "with open(\"../testdata/Testing.xml\", \"r\") as f:\n",
    "    xml_string = f.read()\n",
    "\n"
   ]
  },
  {
   "cell_type": "code",
   "execution_count": 4,
   "metadata": {},
   "outputs": [],
   "source": [
    "find_elements = [\n",
    "    \"io.github.mzmine.modules.io.import_rawdata_all.AllSpectralDataImportModule\",\n",
    "    \"io.github.mzmine.modules.io.import_rawdata_mzml.MSDKmzMLImportModule\",\n",
    "    \"io.github.mzmine.modules.io.deprecated_jmzml.MzMLImportModule\",\n",
    "]\n",
    "\n",
    "new_filepaths = [\n",
    "    \"C:\\\\Users\\\\james\\\\Documents\\\\GitHub\\\\mzmine2\\\\testdata\\\\Testing.mzML\",\n",
    "    \"C:\\\\Users\\\\james\\\\Documents\\\\GitHub\\\\mzmine2\\\\testdata\\\\Testing2.mzML\",\n",
    "    \"C:\\\\Users\\\\james\\\\Documents\\\\GitHub\\\\mzmine2\\\\testdata\\\\Testing3.mzML\",\n",
    "    \"C:\\\\Users\\\\james\\\\Documents\\\\GitHub\\\\mzmine2\\\\testdata\\\\Testing4.mzML\",\n",
    "    \"C:\\\\Users\\\\james\\\\Documents\\\\GitHub\\\\mzmine2\\\\testdata\\\\Testing5.mzML\",\n",
    "]"
   ]
  },
  {
   "cell_type": "code",
   "execution_count": 5,
   "metadata": {},
   "outputs": [],
   "source": [
    "root = ET.fromstring(xml_string)\n",
    "\n",
    "for element in find_elements:\n",
    "    for child in root.findall(f\".//batchstep[@method='{element}']\"):\n",
    "        for parameter in child.findall(\".//parameter[@name='File names']\"):\n",
    "            for files in parameter.findall(\".//file\"):\n",
    "                parameter.remove(files)\n",
    "            for i in range(len(new_filepaths)):\n",
    "                file = ET.SubElement(parameter, \"file\")\n",
    "                file.text = new_filepaths[i]"
   ]
  },
  {
   "cell_type": "code",
   "execution_count": 6,
   "metadata": {},
   "outputs": [],
   "source": [
    "\n",
    "# Format XML string\n",
    "formatted_xml = minidom.parseString(ET.tostring(root)).toxml()\n",
    "\n",
    "with open(\"../testdata/Testing_modified.xml\", \"w\") as f:\n",
    "    f.write(formatted_xml)\n"
   ]
  },
  {
   "cell_type": "code",
   "execution_count": null,
   "metadata": {},
   "outputs": [],
   "source": []
  }
 ],
 "metadata": {
  "kernelspec": {
   "display_name": "env",
   "language": "python",
   "name": "python3"
  },
  "language_info": {
   "codemirror_mode": {
    "name": "ipython",
    "version": 3
   },
   "file_extension": ".py",
   "mimetype": "text/x-python",
   "name": "python",
   "nbconvert_exporter": "python",
   "pygments_lexer": "ipython3",
   "version": "3.10.13"
  },
  "orig_nbformat": 4
 },
 "nbformat": 4,
 "nbformat_minor": 2
}
